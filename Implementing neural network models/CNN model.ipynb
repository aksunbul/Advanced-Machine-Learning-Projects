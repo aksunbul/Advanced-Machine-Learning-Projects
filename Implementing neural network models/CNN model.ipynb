{
 "cells": [
  {
   "cell_type": "markdown",
   "metadata": {},
   "source": [
    "# Machine Learning in Python - Deep Learning with CNNs"
   ]
  },
  {
   "cell_type": "markdown",
   "metadata": {},
   "source": [
    "Using a convolutional network fro the MNIST problem - based on [https://github.com/fchollet/keras/blob/master/examples/mnist_cnn.py](https://github.com/fchollet/keras/blob/master/examples/mnist_cnn.py)"
   ]
  },
  {
   "cell_type": "code",
   "execution_count": 2,
   "metadata": {},
   "outputs": [],
   "source": [
    "import numpy as np\n",
    "np.random.seed(1337)  # for reproducibility\n",
    "import pandas as pd\n",
    "\n",
    "from IPython.display import display, HTML, Image\n",
    "from IPython.display import SVG\n",
    "\n",
    "from sklearn import preprocessing \n",
    "from sklearn import metrics\n",
    "from sklearn.model_selection import train_test_split\n",
    "\n",
    "import keras\n",
    "from keras.datasets import mnist\n",
    "from keras.models import Sequential\n",
    "from keras.layers import Dense, Dropout, Activation, Flatten\n",
    "from keras.layers import Conv2D, MaxPooling2D\n",
    "from keras.utils import np_utils\n",
    "from keras.utils.vis_utils import model_to_dot"
   ]
  },
  {
   "cell_type": "code",
   "execution_count": 3,
   "metadata": {},
   "outputs": [],
   "source": [
    "%qtconsole"
   ]
  },
  {
   "cell_type": "markdown",
   "metadata": {},
   "source": [
    "## Dataset Pre-Processing"
   ]
  },
  {
   "cell_type": "markdown",
   "metadata": {},
   "source": [
    "Read in the mnist dataset and prepare it for learning"
   ]
  },
  {
   "cell_type": "code",
   "execution_count": 4,
   "metadata": {},
   "outputs": [
    {
     "name": "stderr",
     "output_type": "stream",
     "text": [
      "C:\\Users\\aksunbul\\Anaconda3\\lib\\site-packages\\ipykernel_launcher.py:16: FutureWarning: Method .as_matrix will be removed in a future version. Use .values instead.\n",
      "  app.launch_new_instance()\n",
      "C:\\Users\\aksunbul\\Anaconda3\\lib\\site-packages\\ipykernel_launcher.py:17: FutureWarning: Method .as_matrix will be removed in a future version. Use .values instead.\n",
      "C:\\Users\\aksunbul\\Anaconda3\\lib\\site-packages\\ipykernel_launcher.py:18: FutureWarning: Method .as_matrix will be removed in a future version. Use .values instead.\n",
      "C:\\Users\\aksunbul\\Anaconda3\\lib\\site-packages\\ipykernel_launcher.py:24: FutureWarning: Method .as_matrix will be removed in a future version. Use .values instead.\n",
      "C:\\Users\\aksunbul\\Anaconda3\\lib\\site-packages\\ipykernel_launcher.py:25: FutureWarning: Method .as_matrix will be removed in a future version. Use .values instead.\n",
      "C:\\Users\\aksunbul\\Anaconda3\\lib\\site-packages\\ipykernel_launcher.py:26: FutureWarning: Method .as_matrix will be removed in a future version. Use .values instead.\n"
     ]
    }
   ],
   "source": [
    "abt = pd.read_csv(\"../MNIST_Data/mnist_train_small.csv\", encoding = \"ISO-8859-1\")\n",
    "# Put all but the target variable into the descriptive features array\n",
    "X = abt[abt.columns.difference([\"value\"])]\n",
    "Y = abt[\"value\"]\n",
    "\n",
    "# Use a range scaling to scale all variables to between 0 and 1\n",
    "min_max_scaler = preprocessing.MinMaxScaler()\n",
    "cols = X.columns\n",
    "X = pd.DataFrame(min_max_scaler.fit_transform(X), columns = cols) # Watch out for putting back in columns here\n",
    "\n",
    "# Perfrom split to train, validation, test\n",
    "x_train_plus_valid, x_test, y_train_plus_valid, y_test = train_test_split(X, Y, random_state=0, test_size = 0.30, train_size = 0.7)\n",
    "x_train, x_valid, y_train, y_valid = train_test_split(x_train_plus_valid, y_train_plus_valid, random_state=0, test_size = 0.199/0.7, train_size = 0.5/0.7)\n",
    "\n",
    "# convert to numpy arrays\n",
    "x_train = x_train.as_matrix()\n",
    "x_valid = x_valid.as_matrix()\n",
    "x_test = x_test.as_matrix()\n",
    "\n",
    "y_train_cat = y_train.copy()\n",
    "y_valid_cat = y_valid.copy()\n",
    "y_test_cat = y_test.copy()\n",
    "\n",
    "y_train = y_train.as_matrix()\n",
    "y_valid = y_valid.as_matrix()\n",
    "y_test = y_test.as_matrix()"
   ]
  },
  {
   "cell_type": "markdown",
   "metadata": {},
   "source": [
    "Prepare the data for input to a convolutional network"
   ]
  },
  {
   "cell_type": "code",
   "execution_count": 5,
   "metadata": {},
   "outputs": [
    {
     "name": "stdout",
     "output_type": "stream",
     "text": [
      "x_train shape: (5000, 28, 28, 1)\n",
      "5000 train samples\n",
      "1991 valid samples\n",
      "3000 test samples\n"
     ]
    }
   ],
   "source": [
    "num_classes = 10\n",
    "\n",
    "# input image dimensions\n",
    "img_rows, img_cols = 28, 28\n",
    "\n",
    "x_train = x_train.reshape(x_train.shape[0], img_rows, img_cols, 1)\n",
    "x_valid = x_valid.reshape(x_valid.shape[0], img_rows, img_cols, 1)\n",
    "x_test = x_test.reshape(x_test.shape[0], img_rows, img_cols, 1)\n",
    "input_shape = (img_rows, img_cols, 1)\n",
    "\n",
    "x_train = x_train.astype('float32')\n",
    "x_valid = x_valid.astype('float32')\n",
    "x_test = x_test.astype('float32')\n",
    "\n",
    "print('x_train shape:', x_train.shape)\n",
    "print(x_train.shape[0], 'train samples')\n",
    "print(x_valid.shape[0], 'valid samples')\n",
    "print(x_test.shape[0], 'test samples')\n",
    "\n",
    "# convert class vectors to binary class matrices\n",
    "y_train = keras.utils.to_categorical(y_train, num_classes)\n",
    "y_valid = keras.utils.to_categorical(y_valid, num_classes)\n",
    "y_test = keras.utils.to_categorical(y_test, num_classes)"
   ]
  },
  {
   "cell_type": "markdown",
   "metadata": {},
   "source": [
    "## Model Building"
   ]
  },
  {
   "cell_type": "markdown",
   "metadata": {},
   "source": [
    "Set up the model"
   ]
  },
  {
   "cell_type": "code",
   "execution_count": 7,
   "metadata": {
    "scrolled": true
   },
   "outputs": [],
   "source": [
    "model = Sequential()\n",
    "model.add(Conv2D(32, kernel_size=(3, 3),\n",
    "                 input_shape=input_shape))\n",
    "model.add(Activation(\"relu\"))\n",
    "model.add(Conv2D(64, (3, 3)))\n",
    "model.add(Activation(\"relu\"))\n",
    "model.add(MaxPooling2D(pool_size=(2, 2)))\n",
    "# DROPOUT EXPLANATION\n",
    "# https://medium.com/@amarbudhiraja/https-medium-com-amarbudhiraja-learning-less-to-learn-better-dropout-in-deep-machine-learning-74334da4bfc5\n",
    "model.add(Dropout(0.25))\n",
    "model.add(Flatten())\n",
    "model.add(Dense(128))\n",
    "model.add(Activation(\"relu\"))\n",
    "model.add(Dropout(0.5))\n",
    "model.add(Dense(num_classes, activation='softmax'))"
   ]
  },
  {
   "cell_type": "markdown",
   "metadata": {},
   "source": [
    "Train the model"
   ]
  },
  {
   "cell_type": "code",
   "execution_count": 8,
   "metadata": {},
   "outputs": [
    {
     "name": "stdout",
     "output_type": "stream",
     "text": [
      "Train on 5000 samples, validate on 1991 samples\n",
      "Epoch 1/50\n",
      "5000/5000 [==============================] - 19s 4ms/step - loss: 1.1588 - acc: 0.6170 - val_loss: 0.5378 - val_acc: 0.8453\n",
      "Epoch 2/50\n",
      "5000/5000 [==============================] - 17s 3ms/step - loss: 0.6066 - acc: 0.8100 - val_loss: 0.3812 - val_acc: 0.8850\n",
      "Epoch 3/50\n",
      "5000/5000 [==============================] - 17s 3ms/step - loss: 0.4638 - acc: 0.8548 - val_loss: 0.3311 - val_acc: 0.8980\n",
      "Epoch 4/50\n",
      "5000/5000 [==============================] - 18s 4ms/step - loss: 0.3862 - acc: 0.8780 - val_loss: 0.2784 - val_acc: 0.9126\n",
      "Epoch 5/50\n",
      "5000/5000 [==============================] - 18s 4ms/step - loss: 0.3164 - acc: 0.9020 - val_loss: 0.2519 - val_acc: 0.9196\n",
      "Epoch 6/50\n",
      "5000/5000 [==============================] - 20s 4ms/step - loss: 0.2773 - acc: 0.9142 - val_loss: 0.2335 - val_acc: 0.9272\n",
      "Epoch 7/50\n",
      "5000/5000 [==============================] - 19s 4ms/step - loss: 0.2607 - acc: 0.9140 - val_loss: 0.2218 - val_acc: 0.9292\n",
      "Epoch 8/50\n",
      "5000/5000 [==============================] - 17s 3ms/step - loss: 0.2073 - acc: 0.9324 - val_loss: 0.2196 - val_acc: 0.9322\n",
      "Epoch 9/50\n",
      "5000/5000 [==============================] - 17s 3ms/step - loss: 0.1873 - acc: 0.9376 - val_loss: 0.1944 - val_acc: 0.9397\n",
      "Epoch 10/50\n",
      "5000/5000 [==============================] - 17s 3ms/step - loss: 0.1520 - acc: 0.9526 - val_loss: 0.2053 - val_acc: 0.9347\n",
      "Epoch 11/50\n",
      "5000/5000 [==============================] - 18s 4ms/step - loss: 0.1518 - acc: 0.9500 - val_loss: 0.1947 - val_acc: 0.9382\n",
      "Epoch 12/50\n",
      "5000/5000 [==============================] - 17s 3ms/step - loss: 0.1219 - acc: 0.9606 - val_loss: 0.1853 - val_acc: 0.9448\n",
      "Epoch 13/50\n",
      "5000/5000 [==============================] - 17s 3ms/step - loss: 0.1178 - acc: 0.9604 - val_loss: 0.1860 - val_acc: 0.9463\n",
      "Epoch 14/50\n",
      "5000/5000 [==============================] - 20s 4ms/step - loss: 0.1089 - acc: 0.9636 - val_loss: 0.1894 - val_acc: 0.9437\n",
      "Epoch 15/50\n",
      "5000/5000 [==============================] - 18s 4ms/step - loss: 0.1041 - acc: 0.9634 - val_loss: 0.1768 - val_acc: 0.9508\n",
      "Epoch 16/50\n",
      "5000/5000 [==============================] - 17s 3ms/step - loss: 0.0905 - acc: 0.9712 - val_loss: 0.1980 - val_acc: 0.9468\n",
      "Epoch 17/50\n",
      "5000/5000 [==============================] - 17s 3ms/step - loss: 0.0766 - acc: 0.9730 - val_loss: 0.1843 - val_acc: 0.9513\n",
      "Epoch 18/50\n",
      "5000/5000 [==============================] - 17s 3ms/step - loss: 0.0644 - acc: 0.9782 - val_loss: 0.1889 - val_acc: 0.9493\n",
      "Epoch 19/50\n",
      "5000/5000 [==============================] - 19s 4ms/step - loss: 0.0709 - acc: 0.9738 - val_loss: 0.1952 - val_acc: 0.9463\n",
      "Epoch 20/50\n",
      "5000/5000 [==============================] - 20s 4ms/step - loss: 0.0573 - acc: 0.9804 - val_loss: 0.2103 - val_acc: 0.9473\n",
      "Epoch 21/50\n",
      "5000/5000 [==============================] - 17s 3ms/step - loss: 0.0868 - acc: 0.9716 - val_loss: 0.1736 - val_acc: 0.9523\n",
      "Epoch 22/50\n",
      "5000/5000 [==============================] - 17s 3ms/step - loss: 0.0629 - acc: 0.9786 - val_loss: 0.1927 - val_acc: 0.9513\n",
      "Epoch 23/50\n",
      "5000/5000 [==============================] - 17s 3ms/step - loss: 0.0556 - acc: 0.9820 - val_loss: 0.1904 - val_acc: 0.9498\n",
      "Epoch 24/50\n",
      "5000/5000 [==============================] - 19s 4ms/step - loss: 0.0558 - acc: 0.9826 - val_loss: 0.1988 - val_acc: 0.9493\n",
      "Epoch 25/50\n",
      "5000/5000 [==============================] - 20s 4ms/step - loss: 0.0448 - acc: 0.9856 - val_loss: 0.1965 - val_acc: 0.9468\n",
      "Epoch 26/50\n",
      "5000/5000 [==============================] - 18s 4ms/step - loss: 0.0471 - acc: 0.9850 - val_loss: 0.2227 - val_acc: 0.9508\n",
      "Epoch 27/50\n",
      "5000/5000 [==============================] - 17s 3ms/step - loss: 0.0475 - acc: 0.9848 - val_loss: 0.2094 - val_acc: 0.9493\n",
      "Epoch 28/50\n",
      "5000/5000 [==============================] - 17s 3ms/step - loss: 0.0476 - acc: 0.9850 - val_loss: 0.1964 - val_acc: 0.9528\n",
      "Epoch 29/50\n",
      "5000/5000 [==============================] - 19s 4ms/step - loss: 0.0465 - acc: 0.9828 - val_loss: 0.1891 - val_acc: 0.9553\n",
      "Epoch 30/50\n",
      "5000/5000 [==============================] - 18s 4ms/step - loss: 0.0414 - acc: 0.9862 - val_loss: 0.1970 - val_acc: 0.9528\n",
      "Epoch 31/50\n",
      "5000/5000 [==============================] - 18s 4ms/step - loss: 0.0388 - acc: 0.9850 - val_loss: 0.2099 - val_acc: 0.9538\n",
      "Epoch 32/50\n",
      "5000/5000 [==============================] - 17s 3ms/step - loss: 0.0392 - acc: 0.9866 - val_loss: 0.1971 - val_acc: 0.9538\n",
      "Epoch 33/50\n",
      "5000/5000 [==============================] - 18s 4ms/step - loss: 0.0439 - acc: 0.9844 - val_loss: 0.1999 - val_acc: 0.9543\n",
      "Epoch 34/50\n",
      "5000/5000 [==============================] - 18s 4ms/step - loss: 0.0346 - acc: 0.9886 - val_loss: 0.2068 - val_acc: 0.9563\n",
      "Epoch 35/50\n",
      "5000/5000 [==============================] - 17s 3ms/step - loss: 0.0324 - acc: 0.9896 - val_loss: 0.2080 - val_acc: 0.9553\n",
      "Epoch 36/50\n",
      "5000/5000 [==============================] - 17s 3ms/step - loss: 0.0300 - acc: 0.9894 - val_loss: 0.2148 - val_acc: 0.9558\n",
      "Epoch 37/50\n",
      "5000/5000 [==============================] - 19s 4ms/step - loss: 0.0382 - acc: 0.9868 - val_loss: 0.1965 - val_acc: 0.9573\n",
      "Epoch 38/50\n",
      "5000/5000 [==============================] - 23s 5ms/step - loss: 0.0326 - acc: 0.9890 - val_loss: 0.2142 - val_acc: 0.9593\n",
      "Epoch 39/50\n",
      "5000/5000 [==============================] - 24s 5ms/step - loss: 0.0365 - acc: 0.9880 - val_loss: 0.1995 - val_acc: 0.9583\n",
      "Epoch 40/50\n",
      "5000/5000 [==============================] - 24s 5ms/step - loss: 0.0329 - acc: 0.9890 - val_loss: 0.2095 - val_acc: 0.9553\n",
      "Epoch 41/50\n",
      "5000/5000 [==============================] - 24s 5ms/step - loss: 0.0274 - acc: 0.9908 - val_loss: 0.2150 - val_acc: 0.9573\n",
      "Epoch 42/50\n",
      "5000/5000 [==============================] - 24s 5ms/step - loss: 0.0271 - acc: 0.9904 - val_loss: 0.2225 - val_acc: 0.9573\n",
      "Epoch 43/50\n",
      "5000/5000 [==============================] - 23s 5ms/step - loss: 0.0251 - acc: 0.9906 - val_loss: 0.2334 - val_acc: 0.9533\n",
      "Epoch 44/50\n",
      "5000/5000 [==============================] - 22s 4ms/step - loss: 0.0245 - acc: 0.9922 - val_loss: 0.2243 - val_acc: 0.9593\n",
      "Epoch 45/50\n",
      "5000/5000 [==============================] - 22s 4ms/step - loss: 0.0210 - acc: 0.9928 - val_loss: 0.2282 - val_acc: 0.9578\n",
      "Epoch 46/50\n",
      "5000/5000 [==============================] - 22s 4ms/step - loss: 0.0266 - acc: 0.9904 - val_loss: 0.2117 - val_acc: 0.9538\n",
      "Epoch 47/50\n",
      "5000/5000 [==============================] - 23s 5ms/step - loss: 0.0266 - acc: 0.9912 - val_loss: 0.2199 - val_acc: 0.9548\n",
      "Epoch 48/50\n",
      "5000/5000 [==============================] - 21s 4ms/step - loss: 0.0274 - acc: 0.9906 - val_loss: 0.2231 - val_acc: 0.9573\n",
      "Epoch 49/50\n",
      "5000/5000 [==============================] - 19s 4ms/step - loss: 0.0254 - acc: 0.9910 - val_loss: 0.2239 - val_acc: 0.9563\n",
      "Epoch 50/50\n",
      "5000/5000 [==============================] - 19s 4ms/step - loss: 0.0235 - acc: 0.9930 - val_loss: 0.2183 - val_acc: 0.9588\n"
     ]
    },
    {
     "data": {
      "text/plain": [
       "<keras.callbacks.History at 0x1979dd35f60>"
      ]
     },
     "execution_count": 8,
     "metadata": {},
     "output_type": "execute_result"
    }
   ],
   "source": [
    "batch_size = 128\n",
    "epochs = 50\n",
    "\n",
    "model.compile(loss=keras.losses.categorical_crossentropy,\n",
    "              optimizer=keras.optimizers.adam(),\n",
    "              metrics=['accuracy'])\n",
    "\n",
    "model.fit(x_train, y_train,\n",
    "          batch_size=batch_size,\n",
    "          epochs=epochs,\n",
    "          verbose=1,\n",
    "          validation_data=(x_valid, y_valid))"
   ]
  },
  {
   "cell_type": "code",
   "execution_count": 9,
   "metadata": {},
   "outputs": [
    {
     "name": "stdout",
     "output_type": "stream",
     "text": [
      "Test loss: 0.2400116385788036\n",
      "Test accuracy: 0.954\n"
     ]
    }
   ],
   "source": [
    "score = model.evaluate(x_test, y_test, verbose=0)\n",
    "print('Test loss:', score[0])\n",
    "print('Test accuracy:', score[1])"
   ]
  },
  {
   "cell_type": "markdown",
   "metadata": {},
   "source": [
    "Evaluate the model"
   ]
  },
  {
   "cell_type": "code",
   "execution_count": 10,
   "metadata": {},
   "outputs": [
    {
     "name": "stdout",
     "output_type": "stream",
     "text": [
      "****** Test Data ********\n",
      "             precision    recall  f1-score   support\n",
      "\n",
      "          0       0.93      0.99      0.96       289\n",
      "          1       0.99      0.98      0.98       355\n",
      "          2       0.93      0.94      0.94       303\n",
      "          3       0.97      0.94      0.95       303\n",
      "          4       0.95      0.96      0.95       269\n",
      "          5       0.94      0.96      0.95       286\n",
      "          6       0.93      0.97      0.95       310\n",
      "          7       0.95      0.96      0.96       299\n",
      "          8       0.97      0.92      0.94       287\n",
      "          9       0.97      0.92      0.95       299\n",
      "\n",
      "avg / total       0.95      0.95      0.95      3000\n",
      "\n",
      "Confusion Matrix\n"
     ]
    },
    {
     "data": {
      "text/html": [
       "<div>\n",
       "<style scoped>\n",
       "    .dataframe tbody tr th:only-of-type {\n",
       "        vertical-align: middle;\n",
       "    }\n",
       "\n",
       "    .dataframe tbody tr th {\n",
       "        vertical-align: top;\n",
       "    }\n",
       "\n",
       "    .dataframe thead th {\n",
       "        text-align: right;\n",
       "    }\n",
       "</style>\n",
       "<table border=\"1\" class=\"dataframe\">\n",
       "  <thead>\n",
       "    <tr style=\"text-align: right;\">\n",
       "      <th>Predicted</th>\n",
       "      <th>0</th>\n",
       "      <th>1</th>\n",
       "      <th>2</th>\n",
       "      <th>3</th>\n",
       "      <th>4</th>\n",
       "      <th>5</th>\n",
       "      <th>6</th>\n",
       "      <th>7</th>\n",
       "      <th>8</th>\n",
       "      <th>9</th>\n",
       "      <th>All</th>\n",
       "    </tr>\n",
       "    <tr>\n",
       "      <th>True</th>\n",
       "      <th></th>\n",
       "      <th></th>\n",
       "      <th></th>\n",
       "      <th></th>\n",
       "      <th></th>\n",
       "      <th></th>\n",
       "      <th></th>\n",
       "      <th></th>\n",
       "      <th></th>\n",
       "      <th></th>\n",
       "      <th></th>\n",
       "    </tr>\n",
       "  </thead>\n",
       "  <tbody>\n",
       "    <tr>\n",
       "      <th>0</th>\n",
       "      <td>285</td>\n",
       "      <td>0</td>\n",
       "      <td>0</td>\n",
       "      <td>0</td>\n",
       "      <td>0</td>\n",
       "      <td>0</td>\n",
       "      <td>2</td>\n",
       "      <td>0</td>\n",
       "      <td>2</td>\n",
       "      <td>0</td>\n",
       "      <td>289</td>\n",
       "    </tr>\n",
       "    <tr>\n",
       "      <th>1</th>\n",
       "      <td>0</td>\n",
       "      <td>348</td>\n",
       "      <td>2</td>\n",
       "      <td>1</td>\n",
       "      <td>0</td>\n",
       "      <td>1</td>\n",
       "      <td>0</td>\n",
       "      <td>1</td>\n",
       "      <td>1</td>\n",
       "      <td>1</td>\n",
       "      <td>355</td>\n",
       "    </tr>\n",
       "    <tr>\n",
       "      <th>2</th>\n",
       "      <td>4</td>\n",
       "      <td>2</td>\n",
       "      <td>284</td>\n",
       "      <td>3</td>\n",
       "      <td>3</td>\n",
       "      <td>0</td>\n",
       "      <td>3</td>\n",
       "      <td>2</td>\n",
       "      <td>2</td>\n",
       "      <td>0</td>\n",
       "      <td>303</td>\n",
       "    </tr>\n",
       "    <tr>\n",
       "      <th>3</th>\n",
       "      <td>0</td>\n",
       "      <td>0</td>\n",
       "      <td>5</td>\n",
       "      <td>284</td>\n",
       "      <td>0</td>\n",
       "      <td>10</td>\n",
       "      <td>0</td>\n",
       "      <td>3</td>\n",
       "      <td>0</td>\n",
       "      <td>1</td>\n",
       "      <td>303</td>\n",
       "    </tr>\n",
       "    <tr>\n",
       "      <th>4</th>\n",
       "      <td>1</td>\n",
       "      <td>1</td>\n",
       "      <td>0</td>\n",
       "      <td>0</td>\n",
       "      <td>259</td>\n",
       "      <td>0</td>\n",
       "      <td>5</td>\n",
       "      <td>0</td>\n",
       "      <td>0</td>\n",
       "      <td>3</td>\n",
       "      <td>269</td>\n",
       "    </tr>\n",
       "    <tr>\n",
       "      <th>5</th>\n",
       "      <td>1</td>\n",
       "      <td>0</td>\n",
       "      <td>1</td>\n",
       "      <td>1</td>\n",
       "      <td>2</td>\n",
       "      <td>275</td>\n",
       "      <td>4</td>\n",
       "      <td>0</td>\n",
       "      <td>1</td>\n",
       "      <td>1</td>\n",
       "      <td>286</td>\n",
       "    </tr>\n",
       "    <tr>\n",
       "      <th>6</th>\n",
       "      <td>3</td>\n",
       "      <td>0</td>\n",
       "      <td>0</td>\n",
       "      <td>0</td>\n",
       "      <td>1</td>\n",
       "      <td>5</td>\n",
       "      <td>301</td>\n",
       "      <td>0</td>\n",
       "      <td>0</td>\n",
       "      <td>0</td>\n",
       "      <td>310</td>\n",
       "    </tr>\n",
       "    <tr>\n",
       "      <th>7</th>\n",
       "      <td>1</td>\n",
       "      <td>1</td>\n",
       "      <td>6</td>\n",
       "      <td>1</td>\n",
       "      <td>1</td>\n",
       "      <td>0</td>\n",
       "      <td>0</td>\n",
       "      <td>287</td>\n",
       "      <td>0</td>\n",
       "      <td>2</td>\n",
       "      <td>299</td>\n",
       "    </tr>\n",
       "    <tr>\n",
       "      <th>8</th>\n",
       "      <td>6</td>\n",
       "      <td>0</td>\n",
       "      <td>4</td>\n",
       "      <td>0</td>\n",
       "      <td>2</td>\n",
       "      <td>1</td>\n",
       "      <td>8</td>\n",
       "      <td>2</td>\n",
       "      <td>263</td>\n",
       "      <td>1</td>\n",
       "      <td>287</td>\n",
       "    </tr>\n",
       "    <tr>\n",
       "      <th>9</th>\n",
       "      <td>5</td>\n",
       "      <td>0</td>\n",
       "      <td>2</td>\n",
       "      <td>3</td>\n",
       "      <td>6</td>\n",
       "      <td>0</td>\n",
       "      <td>0</td>\n",
       "      <td>6</td>\n",
       "      <td>1</td>\n",
       "      <td>276</td>\n",
       "      <td>299</td>\n",
       "    </tr>\n",
       "    <tr>\n",
       "      <th>All</th>\n",
       "      <td>306</td>\n",
       "      <td>352</td>\n",
       "      <td>304</td>\n",
       "      <td>293</td>\n",
       "      <td>274</td>\n",
       "      <td>292</td>\n",
       "      <td>323</td>\n",
       "      <td>301</td>\n",
       "      <td>270</td>\n",
       "      <td>285</td>\n",
       "      <td>3000</td>\n",
       "    </tr>\n",
       "  </tbody>\n",
       "</table>\n",
       "</div>"
      ],
      "text/plain": [
       "Predicted    0    1    2    3    4    5    6    7    8    9   All\n",
       "True                                                             \n",
       "0          285    0    0    0    0    0    2    0    2    0   289\n",
       "1            0  348    2    1    0    1    0    1    1    1   355\n",
       "2            4    2  284    3    3    0    3    2    2    0   303\n",
       "3            0    0    5  284    0   10    0    3    0    1   303\n",
       "4            1    1    0    0  259    0    5    0    0    3   269\n",
       "5            1    0    1    1    2  275    4    0    1    1   286\n",
       "6            3    0    0    0    1    5  301    0    0    0   310\n",
       "7            1    1    6    1    1    0    0  287    0    2   299\n",
       "8            6    0    4    0    2    1    8    2  263    1   287\n",
       "9            5    0    2    3    6    0    0    6    1  276   299\n",
       "All        306  352  304  293  274  292  323  301  270  285  3000"
      ]
     },
     "metadata": {},
     "output_type": "display_data"
    }
   ],
   "source": [
    "from sklearn import metrics\n",
    "print(\"****** Test Data ********\")\n",
    "\n",
    "# Make a set of predictions for the validation data\n",
    "y_pred = model.predict_classes(np.asfarray(x_test))\n",
    "\n",
    "# Print performance details\n",
    "print(metrics.classification_report(y_test_cat, y_pred))\n",
    "\n",
    "# Print confusion matrix\n",
    "print(\"Confusion Matrix\")\n",
    "display(pd.crosstab(y_test_cat, y_pred, rownames=['True'], colnames=['Predicted'], margins=True))"
   ]
  },
  {
   "cell_type": "markdown",
   "metadata": {},
   "source": [
    "Draw the model"
   ]
  },
  {
   "cell_type": "code",
   "execution_count": 11,
   "metadata": {},
   "outputs": [
    {
     "ename": "ImportError",
     "evalue": "Failed to import `pydot`. Please install `pydot`. For example with `pip install pydot`.",
     "output_type": "error",
     "traceback": [
      "\u001b[1;31m---------------------------------------------------------------------------\u001b[0m",
      "\u001b[1;31mImportError\u001b[0m                               Traceback (most recent call last)",
      "\u001b[1;32m<ipython-input-11-1752a1e5a8b9>\u001b[0m in \u001b[0;36m<module>\u001b[1;34m()\u001b[0m\n\u001b[1;32m----> 1\u001b[1;33m \u001b[0mSVG\u001b[0m\u001b[1;33m(\u001b[0m\u001b[0mmodel_to_dot\u001b[0m\u001b[1;33m(\u001b[0m\u001b[0mmodel\u001b[0m\u001b[1;33m)\u001b[0m\u001b[1;33m.\u001b[0m\u001b[0mcreate\u001b[0m\u001b[1;33m(\u001b[0m\u001b[0mprog\u001b[0m\u001b[1;33m=\u001b[0m\u001b[1;34m'dot'\u001b[0m\u001b[1;33m,\u001b[0m \u001b[0mformat\u001b[0m\u001b[1;33m=\u001b[0m\u001b[1;34m'svg'\u001b[0m\u001b[1;33m)\u001b[0m\u001b[1;33m)\u001b[0m\u001b[1;33m\u001b[0m\u001b[0m\n\u001b[0m",
      "\u001b[1;32m~\\Anaconda3\\lib\\site-packages\\keras\\utils\\vis_utils.py\u001b[0m in \u001b[0;36mmodel_to_dot\u001b[1;34m(model, show_shapes, show_layer_names, rankdir)\u001b[0m\n\u001b[0;32m     53\u001b[0m     \u001b[1;32mfrom\u001b[0m \u001b[1;33m.\u001b[0m\u001b[1;33m.\u001b[0m\u001b[0mmodels\u001b[0m \u001b[1;32mimport\u001b[0m \u001b[0mSequential\u001b[0m\u001b[1;33m\u001b[0m\u001b[0m\n\u001b[0;32m     54\u001b[0m \u001b[1;33m\u001b[0m\u001b[0m\n\u001b[1;32m---> 55\u001b[1;33m     \u001b[0m_check_pydot\u001b[0m\u001b[1;33m(\u001b[0m\u001b[1;33m)\u001b[0m\u001b[1;33m\u001b[0m\u001b[0m\n\u001b[0m\u001b[0;32m     56\u001b[0m     \u001b[0mdot\u001b[0m \u001b[1;33m=\u001b[0m \u001b[0mpydot\u001b[0m\u001b[1;33m.\u001b[0m\u001b[0mDot\u001b[0m\u001b[1;33m(\u001b[0m\u001b[1;33m)\u001b[0m\u001b[1;33m\u001b[0m\u001b[0m\n\u001b[0;32m     57\u001b[0m     \u001b[0mdot\u001b[0m\u001b[1;33m.\u001b[0m\u001b[0mset\u001b[0m\u001b[1;33m(\u001b[0m\u001b[1;34m'rankdir'\u001b[0m\u001b[1;33m,\u001b[0m \u001b[0mrankdir\u001b[0m\u001b[1;33m)\u001b[0m\u001b[1;33m\u001b[0m\u001b[0m\n",
      "\u001b[1;32m~\\Anaconda3\\lib\\site-packages\\keras\\utils\\vis_utils.py\u001b[0m in \u001b[0;36m_check_pydot\u001b[1;34m()\u001b[0m\n\u001b[0;32m     18\u001b[0m     \u001b[1;32mif\u001b[0m \u001b[0mpydot\u001b[0m \u001b[1;32mis\u001b[0m \u001b[1;32mNone\u001b[0m\u001b[1;33m:\u001b[0m\u001b[1;33m\u001b[0m\u001b[0m\n\u001b[0;32m     19\u001b[0m         raise ImportError(\n\u001b[1;32m---> 20\u001b[1;33m             \u001b[1;34m'Failed to import `pydot`. '\u001b[0m\u001b[1;33m\u001b[0m\u001b[0m\n\u001b[0m\u001b[0;32m     21\u001b[0m             \u001b[1;34m'Please install `pydot`. '\u001b[0m\u001b[1;33m\u001b[0m\u001b[0m\n\u001b[0;32m     22\u001b[0m             'For example with `pip install pydot`.')\n",
      "\u001b[1;31mImportError\u001b[0m: Failed to import `pydot`. Please install `pydot`. For example with `pip install pydot`."
     ]
    }
   ],
   "source": [
    "SVG(model_to_dot(model).create(prog='dot', format='svg'))"
   ]
  },
  {
   "cell_type": "code",
   "execution_count": null,
   "metadata": {
    "collapsed": true
   },
   "outputs": [],
   "source": []
  }
 ],
 "metadata": {
  "kernelspec": {
   "display_name": "Python 3",
   "language": "python",
   "name": "python3"
  },
  "language_info": {
   "codemirror_mode": {
    "name": "ipython",
    "version": 3
   },
   "file_extension": ".py",
   "mimetype": "text/x-python",
   "name": "python",
   "nbconvert_exporter": "python",
   "pygments_lexer": "ipython3",
   "version": "3.6.5"
  }
 },
 "nbformat": 4,
 "nbformat_minor": 1
}
